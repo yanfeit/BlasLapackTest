{
 "cells": [
  {
   "cell_type": "code",
   "execution_count": 1,
   "metadata": {},
   "outputs": [],
   "source": [
    "import numpy as np"
   ]
  },
  {
   "cell_type": "code",
   "execution_count": 2,
   "metadata": {},
   "outputs": [],
   "source": [
    "# LEVEL 1 BLAS FUNCTIONS TESTS\n",
    "x = np.array([1+2j, 3+4j, 5+6j])\n",
    "y = np.array([7-8j, 9-1j, 11+2j])"
   ]
  },
  {
   "cell_type": "code",
   "execution_count": 3,
   "metadata": {},
   "outputs": [
    {
     "data": {
      "text/plain": [
       "(81-117j)"
      ]
     },
     "execution_count": 3,
     "metadata": {},
     "output_type": "execute_result"
    }
   ],
   "source": [
    "np.vdot(x,y)"
   ]
  },
  {
   "cell_type": "code",
   "execution_count": 4,
   "metadata": {},
   "outputs": [
    {
     "data": {
      "text/plain": [
       "array([1.+1.j, 1.+9.j])"
      ]
     },
     "execution_count": 4,
     "metadata": {},
     "output_type": "execute_result"
    }
   ],
   "source": [
    "alpha = 2 + 3j\n",
    "x = np.array([1+2j, 3+4j])\n",
    "y = np.array([5-6j, 7-8j])\n",
    "\n",
    "alpha * x + y"
   ]
  },
  {
   "cell_type": "code",
   "execution_count": 9,
   "metadata": {},
   "outputs": [
    {
     "data": {
      "text/plain": [
       "array([-128.8+65.8j, -167.6+88.8j])"
      ]
     },
     "execution_count": 9,
     "metadata": {},
     "output_type": "execute_result"
    }
   ],
   "source": [
    "# Level 2 BLAS FUNCTIONS TEST\n",
    "alpha = 1.1 + 2.2j\n",
    "beta  = 2.0 + 1.2j\n",
    "A = np.array([[1.0+1j,3.0+3j,5.0+5j ],\n",
    "            [2.0+2j,4.0+4j,6.0+6j]])\n",
    "x = np.array([3.0+3j,2.0+2j, 4.0+4j])\n",
    "y = np.array([0+1.0j, 1.0+2.0j])\n",
    "\n",
    "alpha * np.matmul(A, x.transpose()) + beta * y\n"
   ]
  },
  {
   "cell_type": "code",
   "execution_count": 8,
   "metadata": {},
   "outputs": [
    {
     "data": {
      "text/plain": [
       "array([3.+3.j, 6.+6.j])"
      ]
     },
     "execution_count": 8,
     "metadata": {},
     "output_type": "execute_result"
    }
   ],
   "source": [
    "x.transpose()"
   ]
  },
  {
   "cell_type": "code",
   "execution_count": null,
   "metadata": {},
   "outputs": [],
   "source": []
  }
 ],
 "metadata": {
  "kernelspec": {
   "display_name": "Python 3.9.16 ('base')",
   "language": "python",
   "name": "python3"
  },
  "language_info": {
   "codemirror_mode": {
    "name": "ipython",
    "version": 3
   },
   "file_extension": ".py",
   "mimetype": "text/x-python",
   "name": "python",
   "nbconvert_exporter": "python",
   "pygments_lexer": "ipython3",
   "version": "3.9.16"
  },
  "orig_nbformat": 4,
  "vscode": {
   "interpreter": {
    "hash": "5b65b55405b5cf7fb0c38ae4706fda9c6a16b83f3be65e24c294582d25158f3e"
   }
  }
 },
 "nbformat": 4,
 "nbformat_minor": 2
}
