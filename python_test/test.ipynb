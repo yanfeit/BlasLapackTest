{
 "cells": [
  {
   "cell_type": "code",
   "execution_count": 1,
   "metadata": {},
   "outputs": [],
   "source": [
    "import numpy as np"
   ]
  },
  {
   "cell_type": "code",
   "execution_count": 2,
   "metadata": {},
   "outputs": [],
   "source": [
    "# LEVEL 1 BLAS FUNCTIONS TESTS\n",
    "x = np.array([1+2j, 3+4j, 5+6j])\n",
    "y = np.array([7-8j, 9-1j, 11+2j])"
   ]
  },
  {
   "cell_type": "code",
   "execution_count": 3,
   "metadata": {},
   "outputs": [
    {
     "data": {
      "text/plain": [
       "(81-117j)"
      ]
     },
     "execution_count": 3,
     "metadata": {},
     "output_type": "execute_result"
    }
   ],
   "source": [
    "np.vdot(x,y)"
   ]
  },
  {
   "cell_type": "code",
   "execution_count": 4,
   "metadata": {},
   "outputs": [
    {
     "data": {
      "text/plain": [
       "array([1.+1.j, 1.+9.j])"
      ]
     },
     "execution_count": 4,
     "metadata": {},
     "output_type": "execute_result"
    }
   ],
   "source": [
    "alpha = 2 + 3j\n",
    "x = np.array([1+2j, 3+4j])\n",
    "y = np.array([5-6j, 7-8j])\n",
    "\n",
    "alpha * x + y"
   ]
  },
  {
   "cell_type": "code",
   "execution_count": 9,
   "metadata": {},
   "outputs": [
    {
     "data": {
      "text/plain": [
       "array([-128.8+65.8j, -167.6+88.8j])"
      ]
     },
     "execution_count": 9,
     "metadata": {},
     "output_type": "execute_result"
    }
   ],
   "source": [
    "# Level 2 BLAS FUNCTIONS TEST\n",
    "# ZGEMV\n",
    "alpha = 1.1 + 2.2j\n",
    "beta  = 2.0 + 1.2j\n",
    "A = np.array([[1.0+1j,3.0+3j,5.0+5j ],\n",
    "            [2.0+2j,4.0+4j,6.0+6j]])\n",
    "x = np.array([3.0+3j,2.0+2j, 4.0+4j])\n",
    "y = np.array([0+1.0j, 1.0+2.0j])\n",
    "\n",
    "alpha * np.matmul(A, x.transpose()) + beta * y\n"
   ]
  },
  {
   "cell_type": "code",
   "execution_count": 4,
   "metadata": {},
   "outputs": [
    {
     "data": {
      "text/plain": [
       "array([1. , 1.5, 1.7])"
      ]
     },
     "execution_count": 4,
     "metadata": {},
     "output_type": "execute_result"
    }
   ],
   "source": [
    "# DTRSV\n",
    "import numpy as np\n",
    "from scipy.linalg import solve_triangular\n",
    "\n",
    "A = np.array([[1.0, 0.0, 0.0],[0.5, 1.0, 0.0],[1.0, 0.2, 1.0]])\n",
    "x = np.array([1.0, 2.0, 3.0])\n",
    "\n",
    "x = solve_triangular(A, x, lower=True)\n",
    "x"
   ]
  },
  {
   "cell_type": "markdown",
   "metadata": {},
   "source": []
  },
  {
   "cell_type": "code",
   "execution_count": 1,
   "metadata": {},
   "outputs": [
    {
     "data": {
      "text/plain": [
       "array([1.  +0.j  , 0.9 -0.3j , 1.26-0.47j])"
      ]
     },
     "execution_count": 1,
     "metadata": {},
     "output_type": "execute_result"
    }
   ],
   "source": [
    "# ZTRSV\n",
    "import numpy as np\n",
    "from scipy.linalg import solve_triangular\n",
    "\n",
    "A = np.array([[1.0+1.0j, 0.0, 0.0],[0.5+0.5j, 1.0+2.0j, 0.0],[1.0+2.0j, 0.2+0.3j, 1.0+1.0j]])\n",
    "x = np.array([1.0+1.0j, 2.0+2.0j, 3.0+3.0j])\n",
    "\n",
    "x = solve_triangular(A, x, lower=True)\n",
    "x"
   ]
  },
  {
   "cell_type": "code",
   "execution_count": 1,
   "metadata": {},
   "outputs": [
    {
     "data": {
      "text/plain": [
       "array([[ 73.7,  82.4,  91.1,  99.8],\n",
       "       [163.7, 182.4, 201.1, 221. ],\n",
       "       [253.7, 282.4, 311.1, 342.2]])"
      ]
     },
     "execution_count": 1,
     "metadata": {},
     "output_type": "execute_result"
    }
   ],
   "source": [
    "# LEVEL 3 BLAS\n",
    "# DGEMM\n",
    "import numpy as np\n",
    "from scipy.linalg import solve_triangular\n",
    "\n",
    "alpha = 2.5\n",
    "beta = 1.2\n",
    "A = np.array([[1,2], [3, 4], [5, 6]], dtype=\"float64\")\n",
    "B = np.array([[7,8,9,10], [11,12,13,14]], dtype=\"float64\")\n",
    "C = np.array([[1,2,3,4],[1,2,3,5],[1,2,3,6]], dtype=\"float64\")\n",
    "\n",
    "alpha * np.matmul(A, B) + beta * C\n"
   ]
  },
  {
   "cell_type": "code",
   "execution_count": 2,
   "metadata": {},
   "outputs": [
    {
     "data": {
      "text/plain": [
       "array([[-11.3 +158.7j ,   4.9 +162.3j ,  20.35+166.65j,  34.05+173.95j],\n",
       "       [ 33.7 +287.4j ,  62.4 +283.5j ,  90.1 +282.55j, 113.75+285.65j],\n",
       "       [ 33.7 +465.6j ,  79.4 +458.7j , 123.4 +455.75j, 161.05+460.35j]])"
      ]
     },
     "execution_count": 2,
     "metadata": {},
     "output_type": "execute_result"
    }
   ],
   "source": [
    "# LEVEL 3 BLAS\n",
    "# DGEMM\n",
    "import numpy as np\n",
    "from scipy.linalg import solve_triangular\n",
    "\n",
    "alpha = 2.5\n",
    "beta = 1.2\n",
    "A = np.array([[1+1j,2+2j], [3+3j, 4+1j], [5+5j, 6+1.8j]], dtype=\"complex128\")\n",
    "B = np.array([[7+14j,8+13j,9+12.1j,10+11.9j], [11+10j,12+9j,13+8.1j,14+7.2j]], dtype=\"complex128\")\n",
    "C = np.array([[1+1j,2+4j,3+7j,4+11j],[1+2j,2+5j,3+9j,5+12j],[1+3j,2+6j,3+10j,6+13j]], dtype=\"complex128\")\n",
    "\n",
    "alpha * np.matmul(A, B) + beta * C"
   ]
  }
 ],
 "metadata": {
  "kernelspec": {
   "display_name": "Python 3.9.16 ('base')",
   "language": "python",
   "name": "python3"
  },
  "language_info": {
   "codemirror_mode": {
    "name": "ipython",
    "version": 3
   },
   "file_extension": ".py",
   "mimetype": "text/x-python",
   "name": "python",
   "nbconvert_exporter": "python",
   "pygments_lexer": "ipython3",
   "version": "3.9.16"
  },
  "orig_nbformat": 4,
  "vscode": {
   "interpreter": {
    "hash": "5b65b55405b5cf7fb0c38ae4706fda9c6a16b83f3be65e24c294582d25158f3e"
   }
  }
 },
 "nbformat": 4,
 "nbformat_minor": 2
}
